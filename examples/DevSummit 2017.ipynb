{
 "cells": [
  {
   "cell_type": "markdown",
   "metadata": {},
   "source": [
    "## Scientific programming with the SciPy stack"
   ]
  },
  {
   "cell_type": "markdown",
   "metadata": {},
   "source": [
    "## SciPy"
   ]
  },
  {
   "cell_type": "markdown",
   "metadata": {},
   "source": [
    "### Procrustes analysis, a similarity test for two data sets.\n",
    "<img src=\"files/Prokrustes.png\">"
   ]
  },
  {
   "cell_type": "markdown",
   "metadata": {},
   "source": [
    "Procrustes Analysis\n",
    "- shape analysis or morphometrics\n",
    "shape -- a configuration of landmarks irrespective of origin, size, rotation or reflection\n",
    "- center both sets of points around the origin\n",
    "-  optimal transform to the second matrix using including scaling/dilation, rotations, and reflections\n",
    "   to minimize the sum of the squares of the pointwise differences between the two input datasets."
   ]
  },
  {
   "cell_type": "markdown",
   "metadata": {},
   "source": [
    "## Exact Match"
   ]
  },
  {
   "cell_type": "code",
   "execution_count": null,
   "metadata": {
    "collapsed": false
   },
   "outputs": [],
   "source": [
    "import numpy as np\n",
    "import pylab as plt\n",
    "\n",
    "a=[[1,1],[3,1],[2,4]]\n",
    "fig = plt.figure()\n",
    "fig.suptitle('A', fontsize=20)\n",
    "plt.plot(*zip(*a), marker='o', color='b', ls='')\n",
    "plt.xlim((0,8))\n",
    "plt.ylim((0,8))\n",
    "plt.show()\n",
    "\n",
    "b=[[1,1],[3,1],[2,4]]\n",
    "fig = plt.figure()\n",
    "fig.suptitle('B', fontsize=20)\n",
    "plt.plot(*zip(*b), marker='o', color='r', ls='')\n",
    "plt.xlim((0,8))\n",
    "plt.ylim((0,8))\n",
    "plt.show()"
   ]
  },
  {
   "cell_type": "code",
   "execution_count": null,
   "metadata": {
    "collapsed": false
   },
   "outputs": [],
   "source": [
    "from scipy.spatial import procrustes\n",
    "\n",
    "mtx1, mtx2, disparity = procrustes(a, b)\n",
    "round(disparity)"
   ]
  },
  {
   "cell_type": "markdown",
   "metadata": {},
   "source": [
    "## Scaling"
   ]
  },
  {
   "cell_type": "code",
   "execution_count": null,
   "metadata": {
    "collapsed": false
   },
   "outputs": [],
   "source": [
    "a=[[1,1],[3,1],[2,4]]\n",
    "fig = plt.figure()\n",
    "fig.suptitle('A', fontsize=20)\n",
    "plt.plot(*zip(*a), marker='o', color='b', ls='')\n",
    "plt.xlim((0,8))\n",
    "plt.ylim((0,8))\n",
    "plt.show()\n",
    "\n",
    "b=[[1,1],[6,1],[4,8]]\n",
    "fig = plt.figure()\n",
    "fig.suptitle('B', fontsize=20)\n",
    "plt.plot(*zip(*b), marker='o', color='r', ls='')\n",
    "plt.xlim((0,8))\n",
    "plt.ylim((0,10))\n",
    "plt.show()"
   ]
  },
  {
   "cell_type": "code",
   "execution_count": null,
   "metadata": {
    "collapsed": false
   },
   "outputs": [],
   "source": [
    "mtx1, mtx2, disparity = procrustes(a, b)\n",
    "round(disparity)"
   ]
  },
  {
   "cell_type": "markdown",
   "metadata": {},
   "source": [
    "## Different Origin"
   ]
  },
  {
   "cell_type": "code",
   "execution_count": null,
   "metadata": {
    "collapsed": false
   },
   "outputs": [],
   "source": [
    "a=[[1,1],[3,1],[2,4]]\n",
    "fig = plt.figure()\n",
    "fig.suptitle('A', fontsize=20)\n",
    "plt.plot(*zip(*a), marker='o', color='b', ls='')\n",
    "plt.xlim((0,8))\n",
    "plt.ylim((0,8))\n",
    "plt.show()\n",
    "\n",
    "b=[[4,4],[6,4],[5,7]]\n",
    "fig = plt.figure()\n",
    "fig.suptitle('B', fontsize=20)\n",
    "plt.plot(*zip(*b), marker='o', color='r', ls='')\n",
    "plt.xlim((0,8))\n",
    "plt.ylim((0,8))\n",
    "plt.show()"
   ]
  },
  {
   "cell_type": "code",
   "execution_count": null,
   "metadata": {
    "collapsed": false
   },
   "outputs": [],
   "source": [
    "mtx1, mtx2, disparity = procrustes(a, b)\n",
    "round(disparity)"
   ]
  },
  {
   "cell_type": "markdown",
   "metadata": {},
   "source": [
    "## Different Shape"
   ]
  },
  {
   "cell_type": "code",
   "execution_count": null,
   "metadata": {
    "collapsed": false
   },
   "outputs": [],
   "source": [
    "a=[[1,1],[3,1],[2,4]]\n",
    "fig = plt.figure()\n",
    "fig.suptitle('A', fontsize=20)\n",
    "plt.plot(*zip(*a), marker='o', color='b', ls='')\n",
    "plt.xlim((0,8))\n",
    "plt.ylim((0,8))\n",
    "plt.show()\n",
    "\n",
    "b=[[2,2],[3,3],[5,6]]\n",
    "fig = plt.figure()\n",
    "fig.suptitle('B', fontsize=20)\n",
    "plt.plot(*zip(*b), marker='o', color='r', ls='')\n",
    "plt.xlim((0,8))\n",
    "plt.ylim((0,8))\n",
    "plt.show()"
   ]
  },
  {
   "cell_type": "code",
   "execution_count": null,
   "metadata": {
    "collapsed": false
   },
   "outputs": [],
   "source": [
    "mtx1, mtx2, disparity = procrustes(a, b)\n",
    "print(disparity)"
   ]
  },
  {
   "cell_type": "markdown",
   "metadata": {},
   "source": [
    "## Stronger Shape Difference"
   ]
  },
  {
   "cell_type": "code",
   "execution_count": null,
   "metadata": {
    "collapsed": false
   },
   "outputs": [],
   "source": [
    "a=[[1,1],[3,1],[2,4]]\n",
    "fig = plt.figure()\n",
    "fig.suptitle('A', fontsize=20)\n",
    "plt.plot(*zip(*a), marker='o', color='b', ls='')\n",
    "plt.xlim((0,8))\n",
    "plt.ylim((0,8))\n",
    "plt.show()\n",
    "\n",
    "b=[[6,1],[6,3],[6,5]]\n",
    "fig = plt.figure()\n",
    "fig.suptitle('B', fontsize=20)\n",
    "plt.plot(*zip(*b), marker='o', color='r', ls='')\n",
    "plt.xlim((0,8))\n",
    "plt.ylim((0,8))\n",
    "plt.show()"
   ]
  },
  {
   "cell_type": "code",
   "execution_count": null,
   "metadata": {
    "collapsed": false
   },
   "outputs": [],
   "source": [
    "mtx1, mtx2, disparity = procrustes(a, b)\n",
    "print(disparity)"
   ]
  },
  {
   "cell_type": "markdown",
   "metadata": {},
   "source": [
    "## Fun Example"
   ]
  },
  {
   "cell_type": "markdown",
   "metadata": {},
   "source": [
    "<img src=\"files/shaun1.png\">"
   ]
  },
  {
   "cell_type": "markdown",
   "metadata": {},
   "source": [
    "<img src=\"files/shaun2.png\">"
   ]
  },
  {
   "cell_type": "code",
   "execution_count": null,
   "metadata": {
    "collapsed": false
   },
   "outputs": [],
   "source": [
    "soap_star = [[-40.684,163.391],[-37.476,163.339],[-38.37,161.604],[-34.427,155.241]]\n",
    "gq = [[-28.485,161.761],[-25.488,162.34], [-26.855,160.605],[-26.434,156.871]]\n",
    "geographer = [[-3.508,164.969],[-1.72,164.496],[-2.719,163.654],[-3.403,161.498]]\n",
    "\n",
    "mtx1, mtx2, disparity = procrustes(soap_star, gq)\n",
    "print('Soap star --> GQ = ', disparity)\n",
    "      \n",
    "mtx1, mtx2, disparity = procrustes(soap_star, geographer)\n",
    "print('Soap star --> geographer = ', disparity)\n",
    "\n",
    "mtx1, mtx2, disparity = procrustes(gq, geographer)\n",
    "print('GQ --> geographer', disparity)"
   ]
  },
  {
   "cell_type": "markdown",
   "metadata": {},
   "source": [
    "## Pandas"
   ]
  },
  {
   "cell_type": "markdown",
   "metadata": {},
   "source": [
    "Import libraries and check versions."
   ]
  },
  {
   "cell_type": "code",
   "execution_count": null,
   "metadata": {
    "collapsed": false,
    "scrolled": true
   },
   "outputs": [],
   "source": [
    "import pandas as pd\n",
    "import numpy as np\n",
    "import sys\n",
    "print('Python version ' + sys.version)\n",
    "print('Pandas version ' + pd.__version__)\n",
    "print('Numpy version ' + np.__version__)"
   ]
  },
  {
   "cell_type": "markdown",
   "metadata": {},
   "source": [
    "Read the data and get a row count.  Data source: U.S. Department of Transportation, TranStats database.  Air Carrier Statistics Table T-100 Domestic Market (All Carriers):  \"This table contains domestic market data reported by both U.S. and foreign air carriers, including carrier, origin, destination, and service class for enplaned passengers, freight and mail when both origin and destination airports are located within the boundaries of the United States and its territories.\" -- 2015"
   ]
  },
  {
   "cell_type": "code",
   "execution_count": null,
   "metadata": {
    "collapsed": false
   },
   "outputs": [],
   "source": [
    "file_path = r'data\\T100_2015.csv.gz'\n",
    "df = pd.read_csv(file_path, header=0)\n",
    "df.count()"
   ]
  },
  {
   "cell_type": "code",
   "execution_count": null,
   "metadata": {
    "collapsed": false,
    "scrolled": true
   },
   "outputs": [],
   "source": [
    "df.head(n=10)"
   ]
  },
  {
   "cell_type": "code",
   "execution_count": null,
   "metadata": {
    "collapsed": false
   },
   "outputs": [],
   "source": [
    "df = pd.read_csv(file_path, header=0, usecols=[\"PASSENGERS\", \"ORIGIN\", \"DEST\"])"
   ]
  },
  {
   "cell_type": "code",
   "execution_count": null,
   "metadata": {
    "collapsed": false
   },
   "outputs": [],
   "source": [
    "df.head(n=10)"
   ]
  },
  {
   "cell_type": "code",
   "execution_count": null,
   "metadata": {
    "collapsed": false
   },
   "outputs": [],
   "source": [
    "print('Min: ', df['PASSENGERS'].min())\n",
    "print('Max: ', df['PASSENGERS'].max())\n",
    "print('Mean: ', df['PASSENGERS'].mean())"
   ]
  },
  {
   "cell_type": "code",
   "execution_count": null,
   "metadata": {
    "collapsed": false
   },
   "outputs": [],
   "source": [
    "df = df.query('PASSENGERS > 10000')"
   ]
  },
  {
   "cell_type": "code",
   "execution_count": null,
   "metadata": {
    "collapsed": false
   },
   "outputs": [],
   "source": [
    "print('Min: ', df['PASSENGERS'].min())\n",
    "print('Max: ', df['PASSENGERS'].max())\n",
    "print('Mean: ', df['PASSENGERS'].mean())"
   ]
  },
  {
   "cell_type": "code",
   "execution_count": null,
   "metadata": {
    "collapsed": false
   },
   "outputs": [],
   "source": [
    "OriginToDestination = df.groupby(['ORIGIN', 'DEST'], as_index=False).agg({'PASSENGERS':sum,})\n",
    "OriginToDestination.head(n=10)"
   ]
  },
  {
   "cell_type": "code",
   "execution_count": null,
   "metadata": {
    "collapsed": false
   },
   "outputs": [],
   "source": [
    "OriginToDestination = pd.pivot_table(OriginToDestination, values='PASSENGERS', index=['ORIGIN'], columns=['DEST'], aggfunc=np.sum)\n",
    "OriginToDestination.head()"
   ]
  },
  {
   "cell_type": "code",
   "execution_count": null,
   "metadata": {
    "collapsed": false,
    "scrolled": true
   },
   "outputs": [],
   "source": [
    "OriginToDestination.fillna(0)"
   ]
  },
  {
   "cell_type": "markdown",
   "metadata": {},
   "source": [
    "## SymPy"
   ]
  },
  {
   "cell_type": "markdown",
   "metadata": {},
   "source": [
    "SymPy is a Python library for symbolic mathematics. It aims to become a full-featured computer algebra system (CAS) while keeping the code as simple as possible in order to be comprehensible and easily extensible."
   ]
  },
  {
   "cell_type": "code",
   "execution_count": null,
   "metadata": {
    "collapsed": false
   },
   "outputs": [],
   "source": [
    "import sympy\n",
    "from sympy import *\n",
    "from sympy.stats import *\n",
    "from sympy import symbols\n",
    "from sympy.plotting import plot\n",
    "from sympy.interactive import printing\n",
    "printing.init_printing(use_latex=True)\n",
    "print('Sympy version ' + sympy.__version__)"
   ]
  },
  {
   "cell_type": "markdown",
   "metadata": {},
   "source": [
    "This example was gleaned from:\n",
    "Rocklin, Matthew, and Andy R. Terrel. \"Symbolic Statistics with SymPy.\" Computing in Science & Engineering 14.3 (2012): 88-93.\n",
    "\n",
    "Problem: Data assimilation -- we want to assimilate new measurements into a set of old measurements.  Both sets of measurements have uncertainty.  For example, ACS estimates updated with local data.\n",
    "\n",
    "Assume we've estimated that the temperature outside is 30 degrees.  However, there is certainly uncertainty is our estimate.  Let's say +- 3 degrees.  In Sympy, we can model this with a normal random variable."
   ]
  },
  {
   "cell_type": "code",
   "execution_count": null,
   "metadata": {
    "collapsed": false
   },
   "outputs": [],
   "source": [
    "T = Normal('T', 30, 3)"
   ]
  },
  {
   "cell_type": "markdown",
   "metadata": {},
   "source": [
    "What is the probability that the temperature is actually greater than 33 degrees?\n",
    "\n",
    "<img src=\"eq1.png\">\n",
    "\n",
    "\n"
   ]
  },
  {
   "cell_type": "markdown",
   "metadata": {},
   "source": [
    "We can use Sympy's integration engine to calculate a precise answer."
   ]
  },
  {
   "cell_type": "code",
   "execution_count": null,
   "metadata": {
    "collapsed": false
   },
   "outputs": [],
   "source": [
    "P(T > 33)"
   ]
  },
  {
   "cell_type": "code",
   "execution_count": null,
   "metadata": {
    "collapsed": false
   },
   "outputs": [],
   "source": [
    "N(P(T > 33))"
   ]
  },
  {
   "cell_type": "markdown",
   "metadata": {},
   "source": [
    "Assume we now have a thermometer and can measure the temperature.  However, there is still uncertainty involved."
   ]
  },
  {
   "cell_type": "code",
   "execution_count": null,
   "metadata": {
    "collapsed": false
   },
   "outputs": [],
   "source": [
    "noise = Normal('noise', 0, 1.5)\n",
    "observation = T + noise"
   ]
  },
  {
   "cell_type": "markdown",
   "metadata": {},
   "source": [
    "We now have two measurements -- 30 +- 3 degrees and 26 +- 1.5 degrees.  How do we combine them?  30 +- 3 was our prior measurement.  We want to cacluate a better estimate of the temperature (posterior) given an observation of 26 degrees.\n",
    "<img src=\"eq2.png\">"
   ]
  },
  {
   "cell_type": "code",
   "execution_count": null,
   "metadata": {
    "collapsed": false
   },
   "outputs": [],
   "source": [
    "T_posterior = given(T, Eq(observation, 26))"
   ]
  },
  {
   "cell_type": "code",
   "execution_count": null,
   "metadata": {
    "collapsed": false
   },
   "outputs": [],
   "source": [
    "E(T_posterior)"
   ]
  },
  {
   "cell_type": "code",
   "execution_count": null,
   "metadata": {
    "collapsed": false
   },
   "outputs": [],
   "source": [
    "N(E(T_posterior))"
   ]
  }
 ],
 "metadata": {
  "kernelspec": {
   "display_name": "Python 3",
   "language": "python",
   "name": "python3"
  },
  "language_info": {
   "codemirror_mode": {
    "name": "ipython",
    "version": 3
   },
   "file_extension": ".py",
   "mimetype": "text/x-python",
   "name": "python",
   "nbconvert_exporter": "python",
   "pygments_lexer": "ipython3",
   "version": "3.5.3"
  }
 },
 "nbformat": 4,
 "nbformat_minor": 0
}
